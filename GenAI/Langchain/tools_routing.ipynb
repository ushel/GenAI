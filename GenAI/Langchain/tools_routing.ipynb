{
 "cells": [
  {
   "cell_type": "markdown",
   "id": "1ecbecc3",
   "metadata": {},
   "source": [
    "Tool usage"
   ]
  },
  {
   "cell_type": "markdown",
   "id": "b33b7cf7",
   "metadata": {},
   "source": [
    "What is Tool :- Functions and services an LLM can utilize to extend its capabilities are named \"tools\" in Langchain.\n",
    "\n",
    "Langchain has many tools available.\n",
    "\n",
    "1. search tools\n",
    "2. math tools\n",
    "3. SqL tools\n",
    "\n",
    "and so on...\n",
    "\n",
    "When we decide language model to use functions there is actually 2 components to it.\n",
    "\n",
    "1. Having language model decide which function and what the inputs to that function should be. \n",
    "2. Calling that function with those inputs.\n",
    "\n",
    "Langchain combines these two ideas into something call tool. \n",
    "\n",
    "Tool is basically a schema definition for a function which then we can convert to openai function specification and callable.\n",
    "\n",
    "We have many of these tools built into the package, search tools, math tools, SQL tools.\n",
    "\n",
    "We will largely focus on creating our own tool.\n"
   ]
  },
  {
   "cell_type": "markdown",
   "id": "59745da0",
   "metadata": {},
   "source": [
    "One thing that we have noticed is that when you create you own chains and agents, a lot of it relies on actually creating your own tools because\n",
    "\n",
    "what you are trying to do is probably pretty specific to your particular task."
   ]
  },
  {
   "cell_type": "markdown",
   "id": "7fc2af00",
   "metadata": {},
   "source": [
    "1. Create own tools\n",
    "\n",
    "2. Build a tool based on an OpenAPI spec\n",
    "\n",
    "    Predating LLMs, the OpenAPI specification is routinely used by service providers to describe their APIs\n",
    "\n",
    "3. Select from multiple possible tools - called routing."
   ]
  },
  {
   "cell_type": "code",
   "execution_count": 1,
   "id": "50f3abda",
   "metadata": {},
   "outputs": [],
   "source": [
    "import os\n",
    "from dotenv import load_dotenv"
   ]
  },
  {
   "cell_type": "code",
   "execution_count": null,
   "id": "544d289b",
   "metadata": {},
   "outputs": [],
   "source": [
    "load(, ignore_discard=False, ignore_expires=False)"
   ]
  }
 ],
 "metadata": {
  "kernelspec": {
   "display_name": "enve",
   "language": "python",
   "name": "python3"
  },
  "language_info": {
   "codemirror_mode": {
    "name": "ipython",
    "version": 3
   },
   "file_extension": ".py",
   "mimetype": "text/x-python",
   "name": "python",
   "nbconvert_exporter": "python",
   "pygments_lexer": "ipython3",
   "version": "3.10.17"
  }
 },
 "nbformat": 4,
 "nbformat_minor": 5
}
