{
 "cells": [
  {
   "cell_type": "markdown",
   "id": "1ecbecc3",
   "metadata": {},
   "source": [
    "Tool usage"
   ]
  },
  {
   "cell_type": "markdown",
   "id": "b33b7cf7",
   "metadata": {},
   "source": [
    "What is Tool :- Functions and services an LLM can utilize to extend its capabilities are named \"tools\" in Langchain.\n",
    "\n",
    "Langchain has many tools available.\n",
    "\n",
    "1. search tools\n",
    "2. math tools\n",
    "3. SqL tools\n",
    "\n",
    "and so on...\n",
    "\n",
    "When we decide language model to use functions there is actually 2 components to it.\n",
    "\n",
    "1. Having language model decide which function and what the inputs to that function should be. \n",
    "2. Calling that function with those inputs.\n",
    "\n",
    "Langchain combines these two ideas into something call tool. \n",
    "\n",
    "Tool is basically a schema definition for a function which then we can convert to openai function specification and callable.\n",
    "\n",
    "We have many of these tools built into the package, search tools, math tools, SQL tools.\n",
    "\n",
    "We will largely focus on creating our own tool.\n"
   ]
  },
  {
   "cell_type": "markdown",
   "id": "59745da0",
   "metadata": {},
   "source": [
    "One thing that we have noticed is that when you create you own chains and agents, a lot of it relies on actually creating your own tools because\n",
    "\n",
    "what you are trying to do is probably pretty specific to your particular task."
   ]
  },
  {
   "cell_type": "markdown",
   "id": "7fc2af00",
   "metadata": {},
   "source": [
    "1. Create own tools\n",
    "\n",
    "2. Build a tool based on an OpenAPI spec\n",
    "\n",
    "    Predating LLMs, the OpenAPI specification is routinely used by service providers to describe their APIs\n",
    "\n",
    "3. Select from multiple possible tools - called routing."
   ]
  },
  {
   "cell_type": "code",
   "execution_count": 1,
   "id": "50f3abda",
   "metadata": {},
   "outputs": [],
   "source": [
    "import os\n",
    "from dotenv import load_dotenv"
   ]
  },
  {
   "cell_type": "code",
   "execution_count": 2,
   "id": "544d289b",
   "metadata": {},
   "outputs": [],
   "source": [
    "load_dotenv()\n",
    "os.environ[\"OPENAI_API_KEY\"] = os.getenv(\"OPENAI_API_KEY\")"
   ]
  },
  {
   "cell_type": "code",
   "execution_count": 3,
   "id": "9ccbdba1",
   "metadata": {},
   "outputs": [],
   "source": [
    "from langchain.agents import tool # too is a decorator which is used to put on top of function, "
   ]
  },
  {
   "cell_type": "code",
   "execution_count": 5,
   "id": "4e6e8dc9",
   "metadata": {},
   "outputs": [],
   "source": [
    "@tool                         # what is does is then automatically convert this function into langchain tool that we can use later.\n",
    "def search(query:str) -> str:\n",
    "    \"\"\"Search for weather online\"\"\"\n",
    "    return \"42f\""
   ]
  },
  {
   "cell_type": "code",
   "execution_count": 6,
   "id": "0e1841ba",
   "metadata": {},
   "outputs": [
    {
     "data": {
      "text/plain": [
       "'search'"
      ]
     },
     "execution_count": 6,
     "metadata": {},
     "output_type": "execute_result"
    }
   ],
   "source": [
    "search.name"
   ]
  },
  {
   "cell_type": "code",
   "execution_count": 7,
   "id": "e7b6023d",
   "metadata": {},
   "outputs": [
    {
     "data": {
      "text/plain": [
       "'Search for weather online'"
      ]
     },
     "execution_count": 7,
     "metadata": {},
     "output_type": "execute_result"
    }
   ],
   "source": [
    "search.description"
   ]
  },
  {
   "cell_type": "code",
   "execution_count": 9,
   "id": "b56d4a57",
   "metadata": {},
   "outputs": [
    {
     "data": {
      "text/plain": [
       "{'query': {'title': 'Query', 'type': 'string'}}"
      ]
     },
     "execution_count": 9,
     "metadata": {},
     "output_type": "execute_result"
    }
   ],
   "source": [
    "search.args"
   ]
  },
  {
   "cell_type": "markdown",
   "id": "9f407972",
   "metadata": {},
   "source": [
    "all of above will be use while creating openai functions.\n",
    "\n",
    "we can improve by defining more explicit structure of input schema- important because description of the input is what the language model \n",
    "\n",
    "uses to determine what the input should be.\n",
    "\n",
    "So having a really clear definition for the input becomes important.\n",
    "\n",
    "We can do this by defining pydantic model, and then when we define the function, we can add arg schema equals search input."
   ]
  },
  {
   "cell_type": "code",
   "execution_count": 12,
   "id": "df659684",
   "metadata": {},
   "outputs": [],
   "source": [
    "from pydantic import BaseModel, Field\n",
    "\n",
    "class SearchInput(BaseModel):\n",
    "    query:str = Field(description=\"Thing to search for\")"
   ]
  },
  {
   "cell_type": "code",
   "execution_count": 13,
   "id": "6c232f8d",
   "metadata": {},
   "outputs": [],
   "source": [
    "@tool(args_schema=SearchInput)\n",
    "def search(query: str) -> str:\n",
    "    \"\"\"Search for the weather online.\"\"\"\n",
    "    return \"42f\""
   ]
  },
  {
   "cell_type": "code",
   "execution_count": 14,
   "id": "6b6ddfe3",
   "metadata": {},
   "outputs": [
    {
     "data": {
      "text/plain": [
       "{'query': {'description': 'Thing to search for',\n",
       "  'title': 'Query',\n",
       "  'type': 'string'}}"
      ]
     },
     "execution_count": 14,
     "metadata": {},
     "output_type": "execute_result"
    }
   ],
   "source": [
    "search.args"
   ]
  },
  {
   "cell_type": "code",
   "execution_count": 15,
   "id": "9e874001",
   "metadata": {},
   "outputs": [
    {
     "data": {
      "text/plain": [
       "'42f'"
      ]
     },
     "execution_count": 15,
     "metadata": {},
     "output_type": "execute_result"
    }
   ],
   "source": [
    "search.run(\"sf\")"
   ]
  },
  {
   "cell_type": "markdown",
   "id": "e99d49a8",
   "metadata": {},
   "source": [
    "lets create a tool which you give you temperature by entering latitude and longitude"
   ]
  },
  {
   "cell_type": "code",
   "execution_count": 42,
   "id": "a55fb83c",
   "metadata": {},
   "outputs": [],
   "source": [
    "import requests\n",
    "from pydantic import BaseModel, Field\n",
    "import datetime\n",
    "\n",
    "\n",
    "# Define Input schema\n",
    "class OpenMeteoInput(BaseModel):\n",
    "    latitude: float = Field(description=\"Latitude of the location to fetch weather data for \")\n",
    "    longitude: float = Field(description=\"Longitude of the location to fetch weather data for\")\n",
    "    \n",
    "@tool(args_schema= OpenMeteoInput)\n",
    "def get_current_temperature(latitude: float, longitude: float) -> dict:\n",
    "    \"\"\"Fetch current temperature for given coordinates.\"\"\"\n",
    "    \n",
    "    BASE_URL = \"https://api.open-meteo.com/v1/forecast?\"\n",
    "    # BASE_URL = \"https://api.open-meteo.com/v1/forecast?latitude={latitude}&longitude={longitude}&current_weather=true\"\n",
    "    \n",
    "    #parameters for the request\n",
    "    params = {\n",
    "        'latitude': latitude,\n",
    "        'longitude': longitude,\n",
    "        'hourly': 'temperature_2m',\n",
    "        'forecast_days':1,\n",
    "    }\n",
    "    \n",
    "    # make the request\n",
    "    response = requests.get(BASE_URL, params=params)\n",
    "    \n",
    "    if response.status_code == 200:\n",
    "        results = response.json()\n",
    "    else:\n",
    "        raise Exception(f\"API Request failed with status code: {response.status_code}\")\n",
    "    \n",
    "    current_utc_time = datetime.datetime.utcnow()\n",
    "    time_list = [datetime.datetime.fromisoformat(time_str.replace('Z', '+00:00')) for time_str in results['hourly']['time']]\n",
    "    temperature_list = results['hourly']['temperature_2m']\n",
    "    \n",
    "    closest_time_index = min(range(len(time_list)), key = lambda i: abs(time_list[i] - current_utc_time))\n",
    "    current_temperature = temperature_list[closest_time_index]\n",
    "    \n",
    "    return f'The current temperature is {current_temperature}C'"
   ]
  },
  {
   "cell_type": "code",
   "execution_count": 43,
   "id": "a31acd26",
   "metadata": {},
   "outputs": [
    {
     "data": {
      "text/plain": [
       "'get_current_temperature'"
      ]
     },
     "execution_count": 43,
     "metadata": {},
     "output_type": "execute_result"
    }
   ],
   "source": [
    "get_current_temperature.name"
   ]
  },
  {
   "cell_type": "code",
   "execution_count": 44,
   "id": "0a3419a6",
   "metadata": {},
   "outputs": [
    {
     "data": {
      "text/plain": [
       "'Fetch current temperature for given coordinates.'"
      ]
     },
     "execution_count": 44,
     "metadata": {},
     "output_type": "execute_result"
    }
   ],
   "source": [
    "get_current_temperature.description"
   ]
  },
  {
   "cell_type": "code",
   "execution_count": 45,
   "id": "99bdda99",
   "metadata": {},
   "outputs": [
    {
     "data": {
      "text/plain": [
       "{'latitude': {'description': 'Latitude of the location to fetch weather data for ',\n",
       "  'title': 'Latitude',\n",
       "  'type': 'number'},\n",
       " 'longitude': {'description': 'Longitude of the location to fetch weather data for',\n",
       "  'title': 'Longitude',\n",
       "  'type': 'number'}}"
      ]
     },
     "execution_count": 45,
     "metadata": {},
     "output_type": "execute_result"
    }
   ],
   "source": [
    "get_current_temperature.args"
   ]
  },
  {
   "cell_type": "markdown",
   "id": "5165edef",
   "metadata": {},
   "source": [
    "what we can also do is convert this tool into exact openAI functions definition and you can do this by doing format_tool_to_openai_function"
   ]
  },
  {
   "cell_type": "code",
   "execution_count": 46,
   "id": "6669cdfa",
   "metadata": {},
   "outputs": [],
   "source": [
    "from langchain.tools.render import format_tool_to_openai_function"
   ]
  },
  {
   "cell_type": "code",
   "execution_count": 47,
   "id": "23250f94",
   "metadata": {},
   "outputs": [
    {
     "data": {
      "text/plain": [
       "{'name': 'get_current_temperature',\n",
       " 'description': 'Fetch current temperature for given coordinates.',\n",
       " 'parameters': {'properties': {'latitude': {'description': 'Latitude of the location to fetch weather data for ',\n",
       "    'type': 'number'},\n",
       "   'longitude': {'description': 'Longitude of the location to fetch weather data for',\n",
       "    'type': 'number'}},\n",
       "  'required': ['latitude', 'longitude'],\n",
       "  'type': 'object'}}"
      ]
     },
     "execution_count": 47,
     "metadata": {},
     "output_type": "execute_result"
    }
   ],
   "source": [
    "format_tool_to_openai_function(get_current_temperature)"
   ]
  },
  {
   "cell_type": "code",
   "execution_count": 48,
   "id": "41f69dae",
   "metadata": {},
   "outputs": [
    {
     "data": {
      "text/plain": [
       "'The current temperature is 33.0C'"
      ]
     },
     "execution_count": 48,
     "metadata": {},
     "output_type": "execute_result"
    }
   ],
   "source": [
    "get_current_temperature({\"latitude\":13, \"longitude\":14})"
   ]
  },
  {
   "cell_type": "code",
   "execution_count": null,
   "id": "7533fa91",
   "metadata": {},
   "outputs": [],
   "source": [
    "# import requests\n",
    "\n",
    "# def get_current_temperature(location):\n",
    "#     latitude = location[\"latitude\"]\n",
    "#     longitude = location[\"longitude\"]\n",
    "\n",
    "#     url = (\n",
    "#         f\"https://api.open-meteo.com/v1/forecast?\"\n",
    "#         f\"latitude={latitude}&longitude={longitude}&current_weather=true\"\n",
    "#     )\n",
    "\n",
    "#     response = requests.get(url)\n",
    "#     if response.status_code != 200:\n",
    "#         raise Exception(f\"API Request failed with status code: {response.status_code}\")\n",
    "\n",
    "#     data = response.json()\n",
    "#     return data[\"current_weather\"][\"temperature\"]\n"
   ]
  },
  {
   "cell_type": "code",
   "execution_count": null,
   "id": "f1eee21d",
   "metadata": {},
   "outputs": [
    {
     "data": {
      "text/plain": [
       "33.3"
      ]
     },
     "execution_count": 41,
     "metadata": {},
     "output_type": "execute_result"
    }
   ],
   "source": [
    "# get_current_temperature({\"latitude\": 13, \"longitude\": 14})"
   ]
  },
  {
   "cell_type": "code",
   "execution_count": null,
   "id": "02d95b31",
   "metadata": {},
   "outputs": [],
   "source": []
  }
 ],
 "metadata": {
  "kernelspec": {
   "display_name": "enve",
   "language": "python",
   "name": "python3"
  },
  "language_info": {
   "codemirror_mode": {
    "name": "ipython",
    "version": 3
   },
   "file_extension": ".py",
   "mimetype": "text/x-python",
   "name": "python",
   "nbconvert_exporter": "python",
   "pygments_lexer": "ipython3",
   "version": "3.10.17"
  }
 },
 "nbformat": 4,
 "nbformat_minor": 5
}
